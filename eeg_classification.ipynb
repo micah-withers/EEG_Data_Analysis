{
 "cells": [
  {
   "cell_type": "code",
   "execution_count": 2,
   "metadata": {},
   "outputs": [],
   "source": [
    "import pandas as pd\n",
    "from pandas import DataFrame as df\n",
    "import os"
   ]
  },
  {
   "cell_type": "code",
   "execution_count": 9,
   "metadata": {},
   "outputs": [
    {
     "data": {
      "text/html": [
       "<div>\n",
       "<style scoped>\n",
       "    .dataframe tbody tr th:only-of-type {\n",
       "        vertical-align: middle;\n",
       "    }\n",
       "\n",
       "    .dataframe tbody tr th {\n",
       "        vertical-align: top;\n",
       "    }\n",
       "\n",
       "    .dataframe thead th {\n",
       "        text-align: right;\n",
       "    }\n",
       "</style>\n",
       "<table border=\"1\" class=\"dataframe\">\n",
       "  <thead>\n",
       "    <tr style=\"text-align: right;\">\n",
       "      <th></th>\n",
       "      <th>trial number</th>\n",
       "      <th>sensor value</th>\n",
       "      <th>subject identifier</th>\n",
       "      <th>matching condition</th>\n",
       "      <th>channel</th>\n",
       "      <th>name</th>\n",
       "    </tr>\n",
       "  </thead>\n",
       "  <tbody>\n",
       "    <tr>\n",
       "      <th>0</th>\n",
       "      <td>0</td>\n",
       "      <td>-8.921</td>\n",
       "      <td>a</td>\n",
       "      <td>S1 obj</td>\n",
       "      <td>0</td>\n",
       "      <td>co2a0000364</td>\n",
       "    </tr>\n",
       "    <tr>\n",
       "      <th>1</th>\n",
       "      <td>0</td>\n",
       "      <td>-8.433</td>\n",
       "      <td>a</td>\n",
       "      <td>S1 obj</td>\n",
       "      <td>0</td>\n",
       "      <td>co2a0000364</td>\n",
       "    </tr>\n",
       "    <tr>\n",
       "      <th>2</th>\n",
       "      <td>0</td>\n",
       "      <td>-2.574</td>\n",
       "      <td>a</td>\n",
       "      <td>S1 obj</td>\n",
       "      <td>0</td>\n",
       "      <td>co2a0000364</td>\n",
       "    </tr>\n",
       "    <tr>\n",
       "      <th>3</th>\n",
       "      <td>0</td>\n",
       "      <td>5.239</td>\n",
       "      <td>a</td>\n",
       "      <td>S1 obj</td>\n",
       "      <td>0</td>\n",
       "      <td>co2a0000364</td>\n",
       "    </tr>\n",
       "    <tr>\n",
       "      <th>4</th>\n",
       "      <td>0</td>\n",
       "      <td>11.587</td>\n",
       "      <td>a</td>\n",
       "      <td>S1 obj</td>\n",
       "      <td>0</td>\n",
       "      <td>co2a0000364</td>\n",
       "    </tr>\n",
       "  </tbody>\n",
       "</table>\n",
       "</div>"
      ],
      "text/plain": [
       "   trial number  sensor value subject identifier matching condition  channel  \\\n",
       "0             0        -8.921                  a             S1 obj        0   \n",
       "1             0        -8.433                  a             S1 obj        0   \n",
       "2             0        -2.574                  a             S1 obj        0   \n",
       "3             0         5.239                  a             S1 obj        0   \n",
       "4             0        11.587                  a             S1 obj        0   \n",
       "\n",
       "          name  \n",
       "0  co2a0000364  \n",
       "1  co2a0000364  \n",
       "2  co2a0000364  \n",
       "3  co2a0000364  \n",
       "4  co2a0000364  "
      ]
     },
     "execution_count": 9,
     "metadata": {},
     "output_type": "execute_result"
    }
   ],
   "source": [
    "directory = \"data/SMNI_CMI_TRAIN/Train/\"\n",
    "filenames = os.listdir(directory)\n",
    "all_frames = []\n",
    "columns = [\"subject identifier\", \"name\", \"trial number\", \"channel\", \"sensor value\", \"matching condition\"]\n",
    "for name in filenames:\n",
    "    temp = pd.read_csv(directory+name, header=0, usecols=columns)\n",
    "    all_frames.append(temp)\n",
    "\n",
    "all_data = pd.concat(all_frames)\n",
    "all_data.head(5)"
   ]
  },
  {
   "cell_type": "code",
   "execution_count": 16,
   "metadata": {},
   "outputs": [
    {
     "data": {
      "text/plain": [
       "trial number             62\n",
       "sensor value          19737\n",
       "subject identifier        2\n",
       "matching condition        3\n",
       "channel                  64\n",
       "name                     16\n",
       "dtype: int64"
      ]
     },
     "execution_count": 16,
     "metadata": {},
     "output_type": "execute_result"
    }
   ],
   "source": [
    "# S1 obj: one picture\n",
    "# S2 match: two identical pictures\n",
    "# S2 nomatch: two different pictures\n",
    "all_data.groupby([\"subject identifier\", \"matching condition\"])\n",
    "all_data.nunique()"
   ]
  },
  {
   "cell_type": "code",
   "execution_count": null,
   "metadata": {},
   "outputs": [],
   "source": []
  }
 ],
 "metadata": {
  "kernelspec": {
   "display_name": "Python 3",
   "language": "python",
   "name": "python3"
  },
  "language_info": {
   "codemirror_mode": {
    "name": "ipython",
    "version": 3
   },
   "file_extension": ".py",
   "mimetype": "text/x-python",
   "name": "python",
   "nbconvert_exporter": "python",
   "pygments_lexer": "ipython3",
   "version": "3.7.7"
  }
 },
 "nbformat": 4,
 "nbformat_minor": 4
}
